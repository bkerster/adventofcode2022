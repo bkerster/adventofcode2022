{
 "cells": [
  {
   "cell_type": "code",
   "execution_count": 1,
   "metadata": {},
   "outputs": [],
   "source": [
    "import os, sys\n",
    "import numpy as np\n",
    "import pandas as pd"
   ]
  },
  {
   "cell_type": "markdown",
   "metadata": {},
   "source": [
    "# Part 1"
   ]
  },
  {
   "cell_type": "markdown",
   "metadata": {},
   "source": [
    "A for Rock, B for Paper, and C for Scissors\n",
    "X for Rock, Y for Paper, and Z for Scissors\n",
    "\n",
    "1 for Rock, 2 for Paper, and 3 for Scissors\n",
    "\n",
    "(0 if you lost, 3 if the round was a draw, and 6 if you won)"
   ]
  },
  {
   "cell_type": "code",
   "execution_count": 4,
   "metadata": {},
   "outputs": [
    {
     "name": "stdout",
     "output_type": "stream",
     "text": [
      "8933\n"
     ]
    }
   ],
   "source": [
    "base_points = {'X': 1, 'Y': 2, 'Z': 3}\n",
    "total_score = 0\n",
    "\n",
    "def check_win(opp, me):\n",
    "    if opp == 'A':\n",
    "        if me == 'X':\n",
    "            return 3\n",
    "        elif me == 'Y':\n",
    "            return 6\n",
    "        elif me == 'Z':\n",
    "            return 0\n",
    "    if opp == 'B':\n",
    "        if me == 'X':\n",
    "            return 0\n",
    "        elif me == 'Y':\n",
    "            return 3\n",
    "        elif me == 'Z':\n",
    "            return 6\n",
    "    if opp == 'C':\n",
    "        if me == 'X':\n",
    "            return 6\n",
    "        elif me == 'Y':\n",
    "            return 0\n",
    "        elif me == 'Z':\n",
    "            return 3\n",
    "\n",
    "with open('day2.txt') as f:\n",
    "    for line in f:\n",
    "        opp, me = line.split()\n",
    "        outcome_score = check_win(opp, me)\n",
    "        total_score += outcome_score + base_points[me]\n",
    "        \n",
    "print(total_score)"
   ]
  },
  {
   "cell_type": "markdown",
   "metadata": {},
   "source": [
    "# Part 2\n"
   ]
  },
  {
   "cell_type": "markdown",
   "metadata": {},
   "source": [
    " X means you need to lose, Y means you need to end the round in a draw, and Z means you need to win\n",
    " \n",
    " (0 if you lost, 3 if the round was a draw, and 6 if you won)"
   ]
  },
  {
   "cell_type": "code",
   "execution_count": 10,
   "metadata": {},
   "outputs": [],
   "source": [
    "win = {'A': 2, 'B': 3, 'C': 1}\n",
    "draw = {'A': 1, 'B': 2, 'C': 3}\n",
    "lose = {'A': 3, 'B': 1, 'C': 2}\n",
    "\n",
    "mapping = {'X': lose, 'Y': draw, 'Z': win}\n",
    "\n",
    "outcome_points = {'X': 0, 'Y': 3, 'Z': 6}"
   ]
  },
  {
   "cell_type": "code",
   "execution_count": 11,
   "metadata": {},
   "outputs": [
    {
     "name": "stdout",
     "output_type": "stream",
     "text": [
      "11998\n"
     ]
    }
   ],
   "source": [
    "total_score = 0\n",
    "with open('day2.txt') as f:\n",
    "    for line in f:\n",
    "        opp, outcome = line.split()\n",
    "        total_score += mapping[outcome][opp] + outcome_points[outcome]\n",
    "        \n",
    "print(total_score)"
   ]
  },
  {
   "cell_type": "code",
   "execution_count": null,
   "metadata": {},
   "outputs": [],
   "source": []
  }
 ],
 "metadata": {
  "kernelspec": {
   "display_name": "Python 3",
   "language": "python",
   "name": "python3"
  },
  "language_info": {
   "codemirror_mode": {
    "name": "ipython",
    "version": 3
   },
   "file_extension": ".py",
   "mimetype": "text/x-python",
   "name": "python",
   "nbconvert_exporter": "python",
   "pygments_lexer": "ipython3",
   "version": "3.7.6"
  }
 },
 "nbformat": 4,
 "nbformat_minor": 4
}
