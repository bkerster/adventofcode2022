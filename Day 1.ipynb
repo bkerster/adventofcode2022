{
 "cells": [
  {
   "cell_type": "markdown",
   "metadata": {},
   "source": [
    "# Part 1"
   ]
  },
  {
   "cell_type": "code",
   "execution_count": 1,
   "metadata": {},
   "outputs": [],
   "source": [
    "import os, sys\n",
    "import pandas as pd\n",
    "import numpy as np"
   ]
  },
  {
   "cell_type": "code",
   "execution_count": 5,
   "metadata": {},
   "outputs": [
    {
     "name": "stdout",
     "output_type": "stream",
     "text": [
      "67016\n"
     ]
    }
   ],
   "source": [
    "biggest = 0\n",
    "running_total = 0\n",
    "\n",
    "with open('input.txt') as f:\n",
    "    for line in f:\n",
    "        if line == '\\n':\n",
    "            if running_total > biggest:\n",
    "                biggest = running_total\n",
    "            running_total = 0\n",
    "        else:\n",
    "            num = int(line)\n",
    "            running_total += num\n",
    "            \n",
    "print(biggest)\n",
    "            "
   ]
  },
  {
   "cell_type": "markdown",
   "metadata": {},
   "source": [
    "# Part 2"
   ]
  },
  {
   "cell_type": "code",
   "execution_count": 14,
   "metadata": {},
   "outputs": [
    {
     "name": "stdout",
     "output_type": "stream",
     "text": [
      "[67016, 66601, 66499] 200116\n"
     ]
    }
   ],
   "source": [
    "biggest = [0, 0, 0]\n",
    "running_total = 0\n",
    "\n",
    "with open('input.txt') as f:\n",
    "    for line in f:\n",
    "        if line == '\\n':\n",
    "            if running_total > np.min(biggest):\n",
    "                biggest.append(running_total)\n",
    "                biggest.sort(reverse=True)\n",
    "                biggest.pop()\n",
    "            running_total = 0\n",
    "        else:\n",
    "            num = int(line)\n",
    "            running_total += num\n",
    "            \n",
    "print(biggest, np.sum(biggest))"
   ]
  },
  {
   "cell_type": "code",
   "execution_count": 10,
   "metadata": {},
   "outputs": [],
   "source": []
  },
  {
   "cell_type": "code",
   "execution_count": 13,
   "metadata": {},
   "outputs": [
    {
     "data": {
      "text/plain": [
       "[5, 3]"
      ]
     },
     "execution_count": 13,
     "metadata": {},
     "output_type": "execute_result"
    }
   ],
   "source": [
    "a = [2,5,3]\n",
    "a.sort(reverse=True)\n",
    "a.pop()\n",
    "a"
   ]
  },
  {
   "cell_type": "code",
   "execution_count": null,
   "metadata": {},
   "outputs": [],
   "source": []
  }
 ],
 "metadata": {
  "kernelspec": {
   "display_name": "Python 3",
   "language": "python",
   "name": "python3"
  },
  "language_info": {
   "codemirror_mode": {
    "name": "ipython",
    "version": 3
   },
   "file_extension": ".py",
   "mimetype": "text/x-python",
   "name": "python",
   "nbconvert_exporter": "python",
   "pygments_lexer": "ipython3",
   "version": "3.7.6"
  }
 },
 "nbformat": 4,
 "nbformat_minor": 4
}
